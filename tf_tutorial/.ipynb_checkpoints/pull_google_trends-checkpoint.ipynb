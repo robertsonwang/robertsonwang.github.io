{
 "cells": [
  {
   "cell_type": "code",
   "execution_count": 171,
   "metadata": {
    "collapsed": true
   },
   "outputs": [],
   "source": [
    "from pytrends.request import TrendReq\n",
    "import pandas as pd\n",
    "import csv\n",
    "import datetime"
   ]
  },
  {
   "cell_type": "code",
   "execution_count": 274,
   "metadata": {
    "collapsed": true
   },
   "outputs": [],
   "source": [
    "russell = pd.read_csv(\"russell_3000.csv\")"
   ]
  },
  {
   "cell_type": "code",
   "execution_count": 269,
   "metadata": {
    "collapsed": false
   },
   "outputs": [],
   "source": [
    "pytrend = TrendReq(\"robertson.wang@barcelonagse.eu\", \"Meowmix77\", custom_useragent='Hello There')"
   ]
  },
  {
   "cell_type": "code",
   "execution_count": 270,
   "metadata": {
    "collapsed": false,
    "scrolled": true
   },
   "outputs": [],
   "source": [
    "# full_df = pd.DataFrame()\n",
    "# pytrend.build_payload(kw_list=[tickers[0]], timeframe = '2004-01-01 2017-07-13')\n",
    "# interest_over_time_df = pytrend.interest_over_time()\n",
    "# interest_over_time_df = interest_over_time_df.reset_index()\n",
    "# full_df['date'] = interest_over_time_df['date']\n",
    "for i in range(2943, len(tickers)):\n",
    "    pytrend.build_payload(kw_list=[tickers[i]], timeframe = '2004-01-01 2017-07-13')\n",
    "    interest_over_time_df = pytrend.interest_over_time()\n",
    "    interest_over_time_df = interest_over_time_df.reset_index()\n",
    "    full_df = full_df.merge(interest_over_time_df)"
   ]
  },
  {
   "cell_type": "code",
   "execution_count": 280,
   "metadata": {
    "collapsed": true
   },
   "outputs": [],
   "source": [
    "full_df.to_csv(\"google_trends_russell_3000.csv\")"
   ]
  }
 ],
 "metadata": {
  "anaconda-cloud": {},
  "kernelspec": {
   "display_name": "Python [conda root]",
   "language": "python",
   "name": "conda-root-py"
  },
  "language_info": {
   "codemirror_mode": {
    "name": "ipython",
    "version": 2
   },
   "file_extension": ".py",
   "mimetype": "text/x-python",
   "name": "python",
   "nbconvert_exporter": "python",
   "pygments_lexer": "ipython2",
   "version": "2.7.12"
  }
 },
 "nbformat": 4,
 "nbformat_minor": 1
}

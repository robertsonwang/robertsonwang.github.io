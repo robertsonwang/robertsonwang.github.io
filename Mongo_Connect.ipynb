{
 "cells": [
  {
   "cell_type": "markdown",
   "metadata": {},
   "source": [
    "\n",
    "       __|  __|_  )\n",
    "       _|  (     /   Amazon Linux AMI\n",
    "      ___|\\___|___|\n"
   ]
  },
  {
   "cell_type": "code",
   "execution_count": 1,
   "metadata": {
    "collapsed": true
   },
   "outputs": [],
   "source": [
    "from pymongo import MongoClient\n",
    "from datetime import datetime\n",
    "import json"
   ]
  },
  {
   "cell_type": "markdown",
   "metadata": {},
   "source": [
    "You have to change this variable each time the EC2 server stops or restarts. Please email/text me to get the new IP address."
   ]
  },
  {
   "cell_type": "code",
   "execution_count": 5,
   "metadata": {
    "collapsed": false
   },
   "outputs": [],
   "source": [
    "ip = '54.236.23.221'"
   ]
  },
  {
   "cell_type": "markdown",
   "metadata": {},
   "source": [
    "Create the connection to the MongoDB server. The first argument is the IP we've supplied above and the second is the port (TCP) through which we'll be talking to the EC2 server and the MongoDB instance running inside it."
   ]
  },
  {
   "cell_type": "code",
   "execution_count": 12,
   "metadata": {
    "collapsed": false
   },
   "outputs": [],
   "source": [
    "conn = MongoClient(ip, 27017)"
   ]
  },
  {
   "cell_type": "markdown",
   "metadata": {},
   "source": [
    "Take a look at the databases available in our MongoDB instance"
   ]
  },
  {
   "cell_type": "code",
   "execution_count": 13,
   "metadata": {
    "collapsed": false
   },
   "outputs": [
    {
     "data": {
      "text/plain": [
       "[u'local', u'cleaned_data']"
      ]
     },
     "execution_count": 13,
     "metadata": {},
     "output_type": "execute_result"
    }
   ],
   "source": [
    "conn.database_names()"
   ]
  },
  {
   "cell_type": "code",
   "execution_count": 14,
   "metadata": {
    "collapsed": false
   },
   "outputs": [],
   "source": [
    "db = conn.get_database('cleaned_data')"
   ]
  },
  {
   "cell_type": "markdown",
   "metadata": {},
   "source": [
    "Print the collection names"
   ]
  },
  {
   "cell_type": "code",
   "execution_count": 15,
   "metadata": {
    "collapsed": false
   },
   "outputs": [
    {
     "data": {
      "text/plain": [
       "[u'academic_biz', u'academic_reviews', u'dc_reviews', u'system.indexes']"
      ]
     },
     "execution_count": 15,
     "metadata": {},
     "output_type": "execute_result"
    }
   ],
   "source": [
    "db.collection_names()"
   ]
  },
  {
   "cell_type": "markdown",
   "metadata": {},
   "source": [
    "Let's grab a a subset reviews from the academic reviews collection. Suppose we want a random set of 5000, all from after 2010, from each city in our dataset."
   ]
  },
  {
   "cell_type": "code",
   "execution_count": 16,
   "metadata": {
    "collapsed": false
   },
   "outputs": [],
   "source": [
    "collection = db.get_collection('academic_reviews')"
   ]
  },
  {
   "cell_type": "code",
   "execution_count": 17,
   "metadata": {
    "collapsed": true
   },
   "outputs": [],
   "source": [
    "#I cheated and just had a list of all the states. \n",
    "#You should try to find a unique list of all the states from mongoDB as an exercise.\n",
    "states = [u'OH', u'NC', u'WI', u'IL', u'AZ', u'NV']"
   ]
  },
  {
   "cell_type": "markdown",
   "metadata": {},
   "source": [
    "First, I'm going to take a look at what one of the reviews looks like. I totally could have done something wrong earlier and the output is pure garbage. This is a good sanity check to make."
   ]
  },
  {
   "cell_type": "code",
   "execution_count": 17,
   "metadata": {
    "collapsed": false
   },
   "outputs": [
    {
     "data": {
      "text/plain": [
       "{u'_id': ObjectId('58e2e9d4decef619d1cfdff0'),\n",
       " u'business_id': u'4P-vTvE6cncJyUyLh73pxw',\n",
       " u'cool': 0,\n",
       " u'date': u'2014-08-14',\n",
       " u'funny': 0,\n",
       " u'review_id': u'tRd0-mPa9O1TMJp_dw5khQ',\n",
       " u'stars': 4,\n",
       " u'state': u'OH',\n",
       " u'text': u'Got my mojo back after having a few of their appetite teasers. Love LPW for a no-frills bite to eat.',\n",
       " u'type': u'review',\n",
       " u'useful': 0,\n",
       " u'user_id': u'kXUySHSlRgVrcR4Aa0HtGQ'}"
      ]
     },
     "execution_count": 17,
     "metadata": {},
     "output_type": "execute_result"
    }
   ],
   "source": [
    "collection.find()[0]"
   ]
  },
  {
   "cell_type": "markdown",
   "metadata": {},
   "source": [
    "Sweet, this is pretty much what we were expecting. Let's pull out the date field from this entry. We're going to filter on this in a second. Depending on its type, we're going to need to develop different strategies in constructing the logical statements that filter for the date."
   ]
  },
  {
   "cell_type": "code",
   "execution_count": 18,
   "metadata": {
    "collapsed": false
   },
   "outputs": [
    {
     "name": "stdout",
     "output_type": "stream",
     "text": [
      "2014-08-14\n",
      "<type 'unicode'>\n"
     ]
    }
   ],
   "source": [
    "print collection.find()[0]['date']\n",
    "print type(collection.find()[0]['date'])"
   ]
  },
  {
   "cell_type": "markdown",
   "metadata": {},
   "source": [
    "Dang it's unicode. Unicode is a pain in the ass to deal with, it's some Python specific format. Let's try converting it to a more usable Python format (datetime). We care about the *relative* difference between the date variable. Doing this with a string doesn't make sense to a computer so we have to transform it into a quantitative measure of time."
   ]
  },
  {
   "cell_type": "code",
   "execution_count": 18,
   "metadata": {
    "collapsed": false
   },
   "outputs": [
    {
     "data": {
      "text/plain": [
       "datetime.datetime(2014, 1, 1, 0, 0)"
      ]
     },
     "execution_count": 18,
     "metadata": {},
     "output_type": "execute_result"
    }
   ],
   "source": [
    "string_year = collection.find()[0]['date'][0:4]\n",
    "year = datetime.strptime(string_year, '%Y')\n",
    "year"
   ]
  },
  {
   "cell_type": "markdown",
   "metadata": {},
   "source": [
    "Note that the datetime above is given as January-1st, 2014. We only gave it a year variable so it just defaults to the first day of that year. That's all good though, we just want stuff after 2010, we just define the beginning of 2010 to be January-1st 2010."
   ]
  },
  {
   "cell_type": "code",
   "execution_count": 19,
   "metadata": {
    "collapsed": false
   },
   "outputs": [],
   "source": [
    "threshold_year = datetime.strptime('2010', '%Y')"
   ]
  },
  {
   "cell_type": "markdown",
   "metadata": {},
   "source": [
    "Running the below code is going to take a little while. But it's essentially doing the following:\n",
    "\n",
    "        For each review in the reviews database:  \n",
    "            If the review comes from one of our states:  \n",
    "                Check to see if the review was made after 2010:  \n",
    "                  If it did, append it to the overall reviews dictionary. \n",
    "                  If it didn't, proceed to the next review."
   ]
  },
  {
   "cell_type": "code",
   "execution_count": 37,
   "metadata": {
    "collapsed": false
   },
   "outputs": [],
   "source": [
    "#reviews_dict = {}\n",
    "num_reviews = 50000\n",
    "\n",
    "for obj in collection.find():\n",
    "    if obj['state'] == 'IL':\n",
    "        try:\n",
    "            if len(reviews_dict[obj['state']]) > num_reviews:\n",
    "                continue\n",
    "        except KeyError:\n",
    "            pass\n",
    "        if datetime.strptime(obj['date'][0:4], '%Y') >= threshold_year:\n",
    "            del obj['_id']\n",
    "            try:\n",
    "                reviews_dict[obj['state']].append(obj)\n",
    "            except KeyError:\n",
    "                reviews_dict[obj['state']]=[obj]\n",
    "    else:\n",
    "        pass\n",
    "                "
   ]
  },
  {
   "cell_type": "markdown",
   "metadata": {},
   "source": [
    "So the new dictionary we created is structured with each state being a key and each entry being a list of reviews. Let's take a look at what Ohio looks like:"
   ]
  },
  {
   "cell_type": "code",
   "execution_count": 21,
   "metadata": {
    "collapsed": false,
    "scrolled": true
   },
   "outputs": [
    {
     "data": {
      "text/plain": [
       "[{u'business_id': u'4P-vTvE6cncJyUyLh73pxw',\n",
       "  u'cool': 0,\n",
       "  u'date': u'2014-08-14',\n",
       "  u'funny': 0,\n",
       "  u'review_id': u'tRd0-mPa9O1TMJp_dw5khQ',\n",
       "  u'stars': 4,\n",
       "  u'state': u'OH',\n",
       "  u'text': u'Got my mojo back after having a few of their appetite teasers. Love LPW for a no-frills bite to eat.',\n",
       "  u'type': u'review',\n",
       "  u'useful': 0,\n",
       "  u'user_id': u'kXUySHSlRgVrcR4Aa0HtGQ'},\n",
       " {u'business_id': u'4P-vTvE6cncJyUyLh73pxw',\n",
       "  u'cool': 0,\n",
       "  u'date': u'2012-10-20',\n",
       "  u'funny': 0,\n",
       "  u'review_id': u'8Mu56iQ-MYEyivqUVss0XA',\n",
       "  u'stars': 4,\n",
       "  u'state': u'OH',\n",
       "  u'text': u\"Don't go here for the decor, but the staff is friendly and the fried pickles are very tasty.  Good value.\",\n",
       "  u'type': u'review',\n",
       "  u'useful': 1,\n",
       "  u'user_id': u'SYKPwRhnlKrW6yTvm7oPWg'},\n",
       " {u'business_id': u'4P-vTvE6cncJyUyLh73pxw',\n",
       "  u'cool': 0,\n",
       "  u'date': u'2014-03-29',\n",
       "  u'funny': 0,\n",
       "  u'review_id': u'6-hKBi-6RC3g7Mft0c-6qw',\n",
       "  u'stars': 4,\n",
       "  u'state': u'OH',\n",
       "  u'text': u'This place is a area staple! Been around for years and not much has changed - I see this as a good thing! Stable and reliable!\\n\\nMy family goes every year for St. Pattys Day corn beef! Very nice place for a bar night dinner, or to catch up with some friends over drinks!',\n",
       "  u'type': u'review',\n",
       "  u'useful': 0,\n",
       "  u'user_id': u'PmgqNO0-5Y3e3UoR61TD7w'},\n",
       " {u'business_id': u'4P-vTvE6cncJyUyLh73pxw',\n",
       "  u'cool': 1,\n",
       "  u'date': u'2012-08-25',\n",
       "  u'funny': 0,\n",
       "  u'review_id': u'ToC77cIEiMas9CPU7dt_fA',\n",
       "  u'stars': 5,\n",
       "  u'state': u'OH',\n",
       "  u'text': u\"I believe in awarding stars bearing in mind the type of restaurant reviewed. \\n\\nOne can tell by the name that LPW won't replace Ohio's lost Maisonette restaurant in Cincy any time soon, nor does it aspire to do so, but for a sports-bar type venue, these folks do it all right, and do so at the right price!\\nStopped for lunch on a Saturday.\\n\\nThe lady got a cheeseburger and fries, I got scrod and broccoli, we split an order of their fried pickles as an app.\\nThe pickles were dill spears coated with just the right amount of what was likely a beer batter and deep fried to tangy perfection.\\nThey got the spears vs. chips decision right!\\n\\nThe lady usually looks askew at this type of fare, but happily camped out over the plate and ate her fair share! \\n \\nAnd here's the kicker they were under four bucks! \\n\\nKudos Mr. Pickle; you done good!\\n\\nThe fries were very lightly battered and done perfectly, with just the right amount of crispness outside followed by a creamy interior, ... the fry guy here knows his craft!\\nAnd the burger was good as well.. ...typical of the genre.  \\n\\nI find it difficult to fawn excessively over  a burger.\\n\\nThe scrod was a very generous sized portion, nicely caramelized and served with lemon and butter and perfectly done.\\nWhen I was given the option of fries or baked potato or rice I asked if there were a green option and broccoli was offered, it was done perfectly as well and the amount was easily enough for two to share.\\nMy dinner came with a salad, which happily WAS NOT from a bag-o-lettuce, but rather freshly cut romaine, a cuke slice or two, carrot shreds and tomato, and it was accompanied by a store bought dinner roll and butter.\\n\\nThe service was quite good, although the waitress appeared to be a bit over-extended, but that's a management issue, not the server's fault.\\n\\nHappily they are in the Cleveland Entertainment book, and as I had the coupon sitting on the table during the meal, the waitress took the value off of the ticket before it was even presented!\\nI'm all for efficiency, especially when it affects how quickly I can get out of a restaurant.\\n\\nThat move garnered the fifth star!\\n\\nWe both stated that we will go back in a heartbeat!\",\n",
       "  u'type': u'review',\n",
       "  u'useful': 2,\n",
       "  u'user_id': u'7LCG3o2KW2jgKgbKN0DQOg'},\n",
       " {u'business_id': u'4P-vTvE6cncJyUyLh73pxw',\n",
       "  u'cool': 0,\n",
       "  u'date': u'2015-07-27',\n",
       "  u'funny': 0,\n",
       "  u'review_id': u'6YC4o9yLc25DK8c6soOlaw',\n",
       "  u'stars': 4,\n",
       "  u'state': u'OH',\n",
       "  u'text': u'If you like fried food and laid back, then this is the place for you.  Nothing that will blow your mind, but the people are great, the restaurant is laid back and casual and the food, while not very creative, is cooked well, presented well and the prices are not ridiculous.',\n",
       "  u'type': u'review',\n",
       "  u'useful': 0,\n",
       "  u'user_id': u'iSdSNh1hjdE33LOwrFnFrg'},\n",
       " {u'business_id': u'4P-vTvE6cncJyUyLh73pxw',\n",
       "  u'cool': 0,\n",
       "  u'date': u'2013-03-16',\n",
       "  u'funny': 0,\n",
       "  u'review_id': u'JYyKOtLznozAlT8P1Foaow',\n",
       "  u'stars': 2,\n",
       "  u'state': u'OH',\n",
       "  u'text': u\"I was not impressed with how gross this place is - I wasn't sure I wanted to order anything. The food was not outstanding. I think I would go across the street to the Tavern!!\",\n",
       "  u'type': u'review',\n",
       "  u'useful': 0,\n",
       "  u'user_id': u'Zmp1Q6Ul9VH3zL02Z5ls_A'},\n",
       " {u'business_id': u'4P-vTvE6cncJyUyLh73pxw',\n",
       "  u'cool': 1,\n",
       "  u'date': u'2014-02-24',\n",
       "  u'funny': 0,\n",
       "  u'review_id': u'T5Xa-KKFqgXdbFnATZA4gg',\n",
       "  u'stars': 5,\n",
       "  u'state': u'OH',\n",
       "  u'text': u\"THE CLASSIC BURGER IS AMAZING.  It's definitely a top ten burger. The fries are good too.\",\n",
       "  u'type': u'review',\n",
       "  u'useful': 0,\n",
       "  u'user_id': u'catpxxLS6OF5cfjxLvpAbA'},\n",
       " {u'business_id': u'4P-vTvE6cncJyUyLh73pxw',\n",
       "  u'cool': 0,\n",
       "  u'date': u'2015-09-05',\n",
       "  u'funny': 0,\n",
       "  u'review_id': u'4FnZR30PtlEb1Ifi7S65bg',\n",
       "  u'stars': 3,\n",
       "  u'state': u'OH',\n",
       "  u'text': u\"Okay bar food. Nice bar setting but food is average, service is average and in general doesn't really art itself apart in anything. Would I go there again? Probably if I'm in the area. Would I go out of my way to go there or make note of it to others? Probably not vegetable soup was good though and wings were fairly priced.\",\n",
       "  u'type': u'review',\n",
       "  u'useful': 0,\n",
       "  u'user_id': u'vzKgTUCV5Pz0gldaeM5j3g'},\n",
       " {u'business_id': u'4P-vTvE6cncJyUyLh73pxw',\n",
       "  u'cool': 0,\n",
       "  u'date': u'2013-02-12',\n",
       "  u'funny': 0,\n",
       "  u'review_id': u'CdBHQT3WuYuQf-VQ1Um8tQ',\n",
       "  u'stars': 3,\n",
       "  u'state': u'OH',\n",
       "  u'text': u\"Alright, i was about to give it 3 stars bc it's not that great, but it's super cheap... wait, but it's kinda filthy too, so umm, 3, final answer.  The food is edible, but a bum could afford to eat here, so i mean, it sure beats eating out of a dumpster.  Cheap brews, cheaper food.  I think the building is made out of iron, my phone practically turns off whenever I go inside.\",\n",
       "  u'type': u'review',\n",
       "  u'useful': 0,\n",
       "  u'user_id': u'OdTvOw8NKzaCcsj_dnRZSQ'},\n",
       " {u'business_id': u'4P-vTvE6cncJyUyLh73pxw',\n",
       "  u'cool': 6,\n",
       "  u'date': u'2011-05-25',\n",
       "  u'funny': 7,\n",
       "  u'review_id': u'6GBjCBVtPGsnQ67neAAkjw',\n",
       "  u'stars': 4,\n",
       "  u'state': u'OH',\n",
       "  u'text': u\"Was boozin and cruisin with my canine comrade. Went all the way out to Hudson via Brecksville/82. Looking for anything to Yelp. Nothing. Not even in the strip mall I used to hit in Hudson on my dry cleaning route back in the day. There was a deli, but it opened at fucking 11! Who even wants to go to a deli after 11? Weak. Breezed through Peninsula. Winking Lizard? Bah. Ended up backtracking through Brecksville and I remembered an old friend. London Pickle Works! Was it still there some four years after I stopped in while house shopping? Yup. Incidentally, investing in a condo down there probably would have made more sense than buying a house in Lakewood. Live and learn.\\n\\nCozied up to the bar and ordered a Killians, plus cheesesteak to go(for pooch). Like the Unicorn, food was amazingly done before I could chug my brew. I could get used to this kind of service. The bar was all old men. Matt, I don't know how you do it. They were watching Fox news for chrissakes!! Total was eight dollars! Holy shit. I dropped a three dollar tip on that barmaid's ass. How could I not? A real meal at fast food prices, at fast food speed, served by someone not under house arrest with work privileges. Busted open the styro box. Big sandwich with mushrooms, onions, cheez and beef sliced so thin I swear it was a Steak'um. I never ate those as a kid, but I remember one time my friend had one in his bedroom where we were playing NES. He didn't want it, so we threw it all around the room. Fries were awesome. Also got a pickle. That's eight dollars with the beer, just to recap. Great value, nice location, old men. I won't wait four more years to come back.\",\n",
       "  u'type': u'review',\n",
       "  u'useful': 7,\n",
       "  u'user_id': u'i8hCMZN-0bHENsHZKHpC-g'},\n",
       " {u'business_id': u'4P-vTvE6cncJyUyLh73pxw',\n",
       "  u'cool': 0,\n",
       "  u'date': u'2016-05-04',\n",
       "  u'funny': 0,\n",
       "  u'review_id': u'VlDz03s9VyODcVi1S9-Yfw',\n",
       "  u'stars': 3,\n",
       "  u'state': u'OH',\n",
       "  u'text': u\"3 stars is fair for this pub. \\n\\nThe food is good and well priced for a bar. \\n\\nTuesday has $5 burgers and chicken sandwiches. \\n\\nThe pecan pie is good for dessert. \\n\\nI got the chicken dinner, it came with a 6 oz chicken, broccoli, steamed potatoes, salad, and roll. It was ok. I'd stick with the burgers though. The salad was fresh. \\n\\nTheir fries are really good.\",\n",
       "  u'type': u'review',\n",
       "  u'useful': 0,\n",
       "  u'user_id': u'n5P4Cw7F1pCYwVutSTqUPg'},\n",
       " {u'business_id': u'4P-vTvE6cncJyUyLh73pxw',\n",
       "  u'cool': 1,\n",
       "  u'date': u'2016-05-11',\n",
       "  u'funny': 0,\n",
       "  u'review_id': u'FFTN8Y1U9G2F_p1dQnxO7A',\n",
       "  u'stars': 4,\n",
       "  u'state': u'OH',\n",
       "  u'text': u\"Okay, so it is a bar with an old fashioned family restaurant attached. We were there almost 2 hours for the Tuesday night burger special. They need more staff. The table was a little sticky. However, the food was delicious. The French fries were nice and crispy, and the Half pound burger didn't taste like a pre-made frozen patty. Our total bill was $15.30 for 2 meals and 2 Cokes. We'll definitely go back.\",\n",
       "  u'type': u'review',\n",
       "  u'useful': 0,\n",
       "  u'user_id': u'W4cfK8SxPloWtIXl3JST2g'},\n",
       " {u'business_id': u'4P-vTvE6cncJyUyLh73pxw',\n",
       "  u'cool': 0,\n",
       "  u'date': u'2016-01-23',\n",
       "  u'funny': 0,\n",
       "  u'review_id': u'HbnWR7vaXD5FLCcrrMAGhg',\n",
       "  u'stars': 1,\n",
       "  u'state': u'OH',\n",
       "  u'text': u\"Unmmmm, no. It's a bar with tables in the next room. It's feels grungy. Service was good, food, not so much. Praying I don't get sick!\\nEverything tasted like it came from a can! Nothing fresh or tasty about it. \\nGuess who won't be back?\",\n",
       "  u'type': u'review',\n",
       "  u'useful': 0,\n",
       "  u'user_id': u'ub50UE95-gu7yIoed1zssA'},\n",
       " {u'business_id': u'4P-vTvE6cncJyUyLh73pxw',\n",
       "  u'cool': 0,\n",
       "  u'date': u'2016-03-17',\n",
       "  u'funny': 0,\n",
       "  u'review_id': u'YGfi1F_Fuc_OyemfqQFspg',\n",
       "  u'stars': 1,\n",
       "  u'state': u'OH',\n",
       "  u'text': u'Have dined in twice now and today was take out for corned beef sandwich. I don\\'t know why I keep thinking this place is going to change. Food is at best \"ok\". The inside is a dive needs some serious updating. This would be ok if this place was a hidden dive bar with amazing food- not the case.\\nToday\\'s lunch- puke. Dry corned beef, probably the worst I ever have had. \\nLession learned never returning.',\n",
       "  u'type': u'review',\n",
       "  u'useful': 1,\n",
       "  u'user_id': u'57w8gLY3f7OwGmWNtUIFIA'},\n",
       " {u'business_id': u'4P-vTvE6cncJyUyLh73pxw',\n",
       "  u'cool': 0,\n",
       "  u'date': u'2016-08-01',\n",
       "  u'funny': 0,\n",
       "  u'review_id': u'cTNeflcioISILyhQpt0HDA',\n",
       "  u'stars': 3,\n",
       "  u'state': u'OH',\n",
       "  u'text': u'This place is very dark and dingy on the inside. It is the cliche of townie bar. The food was just okay but the drinks were super cheap and the service was good.',\n",
       "  u'type': u'review',\n",
       "  u'useful': 0,\n",
       "  u'user_id': u'RlpkcJqctkKXl-LO1IAtig'},\n",
       " {u'business_id': u'4P-vTvE6cncJyUyLh73pxw',\n",
       "  u'cool': 1,\n",
       "  u'date': u'2013-06-12',\n",
       "  u'funny': 0,\n",
       "  u'review_id': u'FM3Uo0F_2BHp1JdxR5nqvQ',\n",
       "  u'stars': 4,\n",
       "  u'state': u'OH',\n",
       "  u'text': u\"This small tavern, has great burgers and the best fries within 100 miles!  It's simple, unpretentious, and the folks are mellow and ready to accommodate their customers.  I understand they added music on the weekend and will surely check it out on the weekend.\",\n",
       "  u'type': u'review',\n",
       "  u'useful': 1,\n",
       "  u'user_id': u'm5iFZbW5hSNPNplx-vGkyA'},\n",
       " {u'business_id': u'4P-vTvE6cncJyUyLh73pxw',\n",
       "  u'cool': 0,\n",
       "  u'date': u'2011-04-01',\n",
       "  u'funny': 2,\n",
       "  u'review_id': u'Pqe0NlNUcxzEnUXALZviuA',\n",
       "  u'stars': 3,\n",
       "  u'state': u'OH',\n",
       "  u'text': u\"The food is typical.  Wait how much was my meal... Then that food is awesome!  Very friendly atmosphere.  Prompt service.  Diner/Bar type place with no particular theme.  (Sorry if there is an attempted theme.  I didn't see it.)  Not a foodie spot or hidden gem, but something about this place just feels... nice.\\n\\nSide note: My apologies for my complete unintentional dine and dash.  Wrong card.  Also sorry to the other guest whose bill I signed for them.\",\n",
       "  u'type': u'review',\n",
       "  u'useful': 0,\n",
       "  u'user_id': u'1-xPzJk_ijBvY2J8Re1DIQ'},\n",
       " {u'business_id': u'4P-vTvE6cncJyUyLh73pxw',\n",
       "  u'cool': 0,\n",
       "  u'date': u'2016-08-14',\n",
       "  u'funny': 0,\n",
       "  u'review_id': u'vAuh2cggRJI1ZUqiZDEjHQ',\n",
       "  u'stars': 5,\n",
       "  u'state': u'OH',\n",
       "  u'text': u\"There'a a reason that everyone loves this place; it's your typical neighborhood bar in the evening (it's typically middle-aged locals, not a rowdy crowd) but it's also a great place to grab a nice meal with your family during the day. They also have a fish fry every Friday during Lent. The food is really good for bar food, and it's very reasonably priced. Obviously, this is not five star fine dining, but if you're looking for a cheap and inviting place to hang out with friends and family, this is a great place, and the food is great for what it is.\",\n",
       "  u'type': u'review',\n",
       "  u'useful': 0,\n",
       "  u'user_id': u'oPQAJEiJnRrD0Km5RlKmtw'},\n",
       " {u'business_id': u'4P-vTvE6cncJyUyLh73pxw',\n",
       "  u'cool': 1,\n",
       "  u'date': u'2013-04-01',\n",
       "  u'funny': 1,\n",
       "  u'review_id': u'sKStdKdvO5nIn1ZN0OC-cg',\n",
       "  u'stars': 2,\n",
       "  u'state': u'OH',\n",
       "  u'text': u\"Not particularly good. Bathroom is nasty. Food decent. Terrible cell phone signal and no WiFi. Probably won't return.\",\n",
       "  u'type': u'review',\n",
       "  u'useful': 2,\n",
       "  u'user_id': u'bZBPVRIGQZ0WXRYLtYXbYQ'},\n",
       " {u'business_id': u'4P-vTvE6cncJyUyLh73pxw',\n",
       "  u'cool': 0,\n",
       "  u'date': u'2013-01-23',\n",
       "  u'funny': 0,\n",
       "  u'review_id': u'uVdnYmlXio7BqtfmZZU-0w',\n",
       "  u'stars': 2,\n",
       "  u'state': u'OH',\n",
       "  u'text': u'Went here last Friday for dinner very disappointed!  Waited for ever for someone to tell us to seat ourselves and then waited forever for the waitress to come over it seemed they were very busy gossiping at the counter.  Food was so-so nothing special the salads good use cheese served very plain.  Better restaurants nearby.',\n",
       "  u'type': u'review',\n",
       "  u'useful': 0,\n",
       "  u'user_id': u'fflaErtSIUWvHe3q0I3JAA'},\n",
       " {u'business_id': u'4P-vTvE6cncJyUyLh73pxw',\n",
       "  u'cool': 0,\n",
       "  u'date': u'2012-05-01',\n",
       "  u'funny': 0,\n",
       "  u'review_id': u'f0l_4MrqYjVCOZq_PowquQ',\n",
       "  u'stars': 4,\n",
       "  u'state': u'OH',\n",
       "  u'text': u\"I can't give this palce 5 stars because hell, its just not a 5 star place.  But it's the Pickle!  If ever in Brecksville stop over at the neighborhood bar for cheap, quality food (you get what you pay for though), a typical old bar atmosphere, free popcorn, and sit in chairs that I swear haven't changed since I was 5.  The place is awesome, I'm there every weekend.\",\n",
       "  u'type': u'review',\n",
       "  u'useful': 1,\n",
       "  u'user_id': u'BRO98wNeY2Q_BZX8G-iVvg'},\n",
       " {u'business_id': u'4P-vTvE6cncJyUyLh73pxw',\n",
       "  u'cool': 1,\n",
       "  u'date': u'2012-03-01',\n",
       "  u'funny': 0,\n",
       "  u'review_id': u'QfnIyQ5wYk2NDWSLYkSbgQ',\n",
       "  u'stars': 4,\n",
       "  u'state': u'OH',\n",
       "  u'text': u'Great prices.   Good food. Typical fare: burgers chicken, fish, etc  Really friendly and eccentric staff. This place is a keeper.   Try the hot pickle. I buy them and use them in bloody marys.',\n",
       "  u'type': u'review',\n",
       "  u'useful': 0,\n",
       "  u'user_id': u'qn7SAaO9Jwl2ls5c9Og2yA'},\n",
       " {u'business_id': u'4P-vTvE6cncJyUyLh73pxw',\n",
       "  u'cool': 0,\n",
       "  u'date': u'2015-11-21',\n",
       "  u'funny': 0,\n",
       "  u'review_id': u'QVS_4D3lLpilcljTSzKtcw',\n",
       "  u'stars': 2,\n",
       "  u'state': u'OH',\n",
       "  u'text': u'Neighborhood bar, with the friendliness that comes with it.  Also the quality of food you would expect. Family friendly.',\n",
       "  u'type': u'review',\n",
       "  u'useful': 0,\n",
       "  u'user_id': u'7phnWalwWR0LcV-4xGGFgg'},\n",
       " {u'business_id': u'2Ql9YdeQstF79FLZyypDWQ',\n",
       "  u'cool': 0,\n",
       "  u'date': u'2016-07-28',\n",
       "  u'funny': 0,\n",
       "  u'review_id': u'e03RnA8nQPaqGbPVLBmOYA',\n",
       "  u'stars': 4,\n",
       "  u'state': u'OH',\n",
       "  u'text': u\"Biggest wantons I have ever seen!!! Broth is good too. The fried rice is amazing, the sweet and sour chicken sauce is thinner than most places but it's still amazing. The fortunes in the cookie need work thou.\",\n",
       "  u'type': u'review',\n",
       "  u'useful': 0,\n",
       "  u'user_id': u'5BR9hKJlIsyy1_6sQl8GmA'},\n",
       " {u'business_id': u'2Ql9YdeQstF79FLZyypDWQ',\n",
       "  u'cool': 0,\n",
       "  u'date': u'2012-08-30',\n",
       "  u'funny': 0,\n",
       "  u'review_id': u'JSQHLLc173uU6vJnzpp0GQ',\n",
       "  u'stars': 4,\n",
       "  u'state': u'OH',\n",
       "  u'text': u\"Excellent food. We found it on the GPS from the Interstate. Good Service and good prices. Clean. Doesn't look like much from the outside.\",\n",
       "  u'type': u'review',\n",
       "  u'useful': 0,\n",
       "  u'user_id': u'u2Toezhsy3k72RyAdGLCHQ'},\n",
       " {u'business_id': u'2Ql9YdeQstF79FLZyypDWQ',\n",
       "  u'cool': 0,\n",
       "  u'date': u'2012-03-07',\n",
       "  u'funny': 0,\n",
       "  u'review_id': u'1JAc13Un_uNSpkvwp1O6Dw',\n",
       "  u'stars': 5,\n",
       "  u'state': u'OH',\n",
       "  u'text': u'By far one of my favorites for pork fried rice and chicken and broccoli they have great egg rolls too',\n",
       "  u'type': u'review',\n",
       "  u'useful': 0,\n",
       "  u'user_id': u'istym9W558wDgC8kfcmy9g'},\n",
       " {u'business_id': u'2Ql9YdeQstF79FLZyypDWQ',\n",
       "  u'cool': 0,\n",
       "  u'date': u'2016-04-06',\n",
       "  u'funny': 0,\n",
       "  u'review_id': u'GUUcCMkz7LUmUNAXld2DXA',\n",
       "  u'stars': 4,\n",
       "  u'state': u'OH',\n",
       "  u'text': u\"This place has really good Chinese food everytime I go I order the sweet and sour chicken which is really good also the General Tso's chicken which is excellent and their boneless ribs excellent It's not expensive and the portions that they give you are pretty big. Their soups are good for wonton soup excellent. The staff there is very nice and the restaurant is very clean.\",\n",
       "  u'type': u'review',\n",
       "  u'useful': 0,\n",
       "  u'user_id': u'84pTTnUsbWK_4twG2y25yA'},\n",
       " {u'business_id': u'2S1s1gKstsgRtUTVxKO79w',\n",
       "  u'cool': 0,\n",
       "  u'date': u'2015-10-01',\n",
       "  u'funny': 0,\n",
       "  u'review_id': u'yX8gz-uL98OgoEt-_QzMXg',\n",
       "  u'stars': 4,\n",
       "  u'state': u'OH',\n",
       "  u'text': u'I remember when this place was Farmer Boy back in the late 90s. Always big portions of good food, friendly service, and open 24/7. It has gone through a few name changes since then but has been Luna\\'s for the past several years. \\n\\nMy really good experiences here have outweighed the not so great experiences. I consider it a \"locals\" spot, so it\\'s not five star dining by any stretch. But the portions are still good-sized, and there are generally daily specials for a good price. \\n\\nI miss the old Farmer Boy restaurant, but I think Luna\\'s is still a good option to consider if you\\'re looking for a good meal for a reasonable price.',\n",
       "  u'type': u'review',\n",
       "  u'useful': 0,\n",
       "  u'user_id': u'Hgg_B3KZXgj1L_LazFzcbg'},\n",
       " {u'business_id': u'2S1s1gKstsgRtUTVxKO79w',\n",
       "  u'cool': 0,\n",
       "  u'date': u'2015-09-21',\n",
       "  u'funny': 0,\n",
       "  u'review_id': u'eMuvx_BUoDwsO1UToVyOeg',\n",
       "  u'stars': 1,\n",
       "  u'state': u'OH',\n",
       "  u'text': u'Worse than a grade school cafeteria canned food. Only bright spot... it is definitely low salt.\\n\\nFrench toast was mushy and nasty.\\n\\nCoffee smelled burnt... but had no taste. Asked non coffee drinking husband to try and he agreed.\\n\\nNo matter the coupon... not worth the meal.',\n",
       "  u'type': u'review',\n",
       "  u'useful': 0,\n",
       "  u'user_id': u'60IVUw1Rfzz-IE7EiAoUEw'},\n",
       " {u'business_id': u'2S1s1gKstsgRtUTVxKO79w',\n",
       "  u'cool': 0,\n",
       "  u'date': u'2013-03-03',\n",
       "  u'funny': 0,\n",
       "  u'review_id': u'eyqkArl-blVw6Wf4NcLbpQ',\n",
       "  u'stars': 3,\n",
       "  u'state': u'OH',\n",
       "  u'text': u\"My wife and I both ordered the rib eye steak dinner for $10.99.  It came with a choice of soup or salad (we chose the salad with a delicious Greek house dressing), giant baked potato and mixed vegetables (out of a can), and free dessert (choice of ice cream or rice pudding - we chose rice pudding and brought it home.  The steaks were slightly over-cooked and not great, but not bad, smothered in onions and mushrooms (out of a can).  The baked potatoes were the highlight of the meal.  Luna's is an old-fashioned kind of restaurant, not very busy on a Saturday night.  Good service (she forgot the dinners rolls, but got them immediately when we asked) and very good value.  We will be back.\",\n",
       "  u'type': u'review',\n",
       "  u'useful': 0,\n",
       "  u'user_id': u'SbsUVsP2gkQhJf4L2q4kjg'},\n",
       " {u'business_id': u'2S1s1gKstsgRtUTVxKO79w',\n",
       "  u'cool': 0,\n",
       "  u'date': u'2014-05-19',\n",
       "  u'funny': 0,\n",
       "  u'review_id': u'9CExDW97_IMeIyNqCB7GPQ',\n",
       "  u'stars': 3,\n",
       "  u'state': u'OH',\n",
       "  u'text': u\"This place was fine for breakfast, the greek scramble was tasty and hearty. Nice owners, very fast (even curt) servers but overall friendly enough. Don't expect gourmet and you won't be disappointed. Decor is about three decades out of date though. Not sure why some reviewers are so down on this place.\",\n",
       "  u'type': u'review',\n",
       "  u'useful': 0,\n",
       "  u'user_id': u'qoFdj5MEQG_rzf4HR-l01g'},\n",
       " {u'business_id': u'2S1s1gKstsgRtUTVxKO79w',\n",
       "  u'cool': 0,\n",
       "  u'date': u'2015-01-08',\n",
       "  u'funny': 0,\n",
       "  u'review_id': u'LF4h_R7bCURk9yPzvQ1meA',\n",
       "  u'stars': 1,\n",
       "  u'state': u'OH',\n",
       "  u'text': u'Food is bland. Reminds me of hospital food. chicken soup was a big bowl  but truly had only one small cube of chicken in it. Vegetables have been reheated multiple times resulting in the peas being hard as rocks. Mashed potatoes were \"instant.\"  Coffee is good. Waitress was nice and kept refilling my coffee. I won\\'t go back, however.',\n",
       "  u'type': u'review',\n",
       "  u'useful': 0,\n",
       "  u'user_id': u'NKytdJBEMqDmhiQxzyH3nQ'},\n",
       " {u'business_id': u'2S1s1gKstsgRtUTVxKO79w',\n",
       "  u'cool': 0,\n",
       "  u'date': u'2016-07-19',\n",
       "  u'funny': 0,\n",
       "  u'review_id': u'D_352Y_R6neg6QfVK4A60g',\n",
       "  u'stars': 2,\n",
       "  u'state': u'OH',\n",
       "  u'text': u\"We used to enjoy Luna's for breakfast. \\nThe last 2 times the food has been bad. \\nThe main reason we won't go back, the last time we were in our waitress went to the wrong table, realized it then cussed. No big deal if my child wasn't with us. \\nPoor service and lousy food. Great prices though. Hopefully it gets better.\",\n",
       "  u'type': u'review',\n",
       "  u'useful': 1,\n",
       "  u'user_id': u'knQd7FuAs6ePGUu4vOlcOg'},\n",
       " {u'business_id': u'2S1s1gKstsgRtUTVxKO79w',\n",
       "  u'cool': 0,\n",
       "  u'date': u'2012-04-28',\n",
       "  u'funny': 0,\n",
       "  u'review_id': u'BWGZyqT_tkTlU2hLYpl5xg',\n",
       "  u'stars': 3,\n",
       "  u'state': u'OH',\n",
       "  u'text': u'This place used to be Five Points Deli & Restaurant, I don\\'t know if it was an ownership change or just a name change.  I\\'m not considering this a full review, since we just stopped in here for dessert and coffee.  I\\'ll have to come back for an actual MEAL, and do more of a review then.\\n\\n3 of us ordered desserts (2 slices of cake, one of the apple pie).  Received ginormous portions (especially of the cake, 3 of us could split one slice of that).  Everything was tasty, but not made on-premises (I actually think I saw packaging from Sam\\'s in the dessert case on the way out).  Decent value for the money.  This area doesn\\'t have many options if you\\'ve got the taste for dessert (other than ice cream) and don\\'t want to whip up some brownies.\\n\\nFood I saw on other tables all looked pretty good.  Pleasant server, decent \"diner-style\" ambiance.  Pretty extensive menu, especially for breakfast.  Spotless bathroom.\\n\\nI\\'ll have to swing by here soon.  I think the Corned Beef Hash is calling out to me!',\n",
       "  u'type': u'review',\n",
       "  u'useful': 0,\n",
       "  u'user_id': u'wyODhqTQFfBum-B98JLLHw'},\n",
       " {u'business_id': u'2S1s1gKstsgRtUTVxKO79w',\n",
       "  u'cool': 0,\n",
       "  u'date': u'2014-06-14',\n",
       "  u'funny': 0,\n",
       "  u'review_id': u'yq4k33NObOl544z92xLChA',\n",
       "  u'stars': 1,\n",
       "  u'state': u'OH',\n",
       "  u'text': u\"Stopped in here Mother's Day for breakfast because every other place was packed. Don't usually come here for the same reasons mentioned in other reviews about service, cleanliness, etc. Again, got the same put out attitude from the servers and slimy table top near the kitchen. The big thing that got me this time was as the wife and I sat there waiting for our food, one of the bus boys who was apparently on his break and looked to be one of the owners relatives, reached over our table to grab some ketchup to put on HIS plate of eggs! He was in clear view and in the way of the service traffic. Nobody that worked there said a word to this oaf as he chowed down! We just looked at each other and laughed in disbelieve! Good thing we don't use ketchup on our eggs! The funniest thing was after we got our food the the tide of people that came in behind us must have overwhelmed them! The staff looked horrified like they didn't expect this much overflow on Mother's Day or capable of handling it! Only got one refill of coffee in this panicked frenzy of pisses off staff and patrons! As we left the owner took our money with a smile as if he was oblivious to the chaos going on behind him! Wow! Last time, no more!\",\n",
       "  u'type': u'review',\n",
       "  u'useful': 0,\n",
       "  u'user_id': u'wD6uMj4_8HgEXEskQ0_Kjw'},\n",
       " {u'business_id': u'2S1s1gKstsgRtUTVxKO79w',\n",
       "  u'cool': 0,\n",
       "  u'date': u'2014-08-03',\n",
       "  u'funny': 0,\n",
       "  u'review_id': u'39gLe_xb9UfyBr_Xe9AdSQ',\n",
       "  u'stars': 4,\n",
       "  u'state': u'OH',\n",
       "  u'text': u'My husband and I were out for a Sunday drive when we spotted this restaurant and decided to stop for dinner.  After a quick visit to the clean restroom, we were greeted and seated immediately.  Three menus appeared...  Daily specials, breakfast menu, and the full menu.  We chose to go to the dinner route.  Our waitress could not have been more helpful.  On her recommendation, we both chose the fried chicken dinner.  It was crunchy, slightly sweet, and oh so good!  It came with potato, rolls, corn, and either soup or salad.  I had the Italian wedding soup which was delicious.... Not heavy on celery taste, although clearly there was celery added.  Dinner comes with a scoop of ice cream for dessert, if you like.  We felt lucky to find this place.  Our waitress was so attentive, never missing a beat.  If we lived closer, we would definitely be back!',\n",
       "  u'type': u'review',\n",
       "  u'useful': 0,\n",
       "  u'user_id': u'h2zvAFFGP47jBPJbnBCKlw'},\n",
       " {u'business_id': u'2S1s1gKstsgRtUTVxKO79w',\n",
       "  u'cool': 0,\n",
       "  u'date': u'2015-01-11',\n",
       "  u'funny': 0,\n",
       "  u'review_id': u'nX739tfpfbMyUyesnRGPFg',\n",
       "  u'stars': 4,\n",
       "  u'state': u'OH',\n",
       "  u'text': u\"I like this restaurant. I've been coming here since I was in high school. Fun-loving people with a good sense of humor. Food is so good with big portions you can never go wrong with that.\",\n",
       "  u'type': u'review',\n",
       "  u'useful': 0,\n",
       "  u'user_id': u'SLKPyEuruLb2jHlVvMiVXw'},\n",
       " {u'business_id': u'2S1s1gKstsgRtUTVxKO79w',\n",
       "  u'cool': 0,\n",
       "  u'date': u'2015-06-20',\n",
       "  u'funny': 0,\n",
       "  u'review_id': u'PYlr0VDc2hh_C7QO0alzPQ',\n",
       "  u'stars': 1,\n",
       "  u'state': u'OH',\n",
       "  u'text': u\"Food is terrible... Frozen and canned crap.  We went there for dinner.  The food literally had no taste, the service was slow.  I won't go back there if you paid me.\\n\\nThe people rating this place more than 2 stars are delusional.   I would rather step in front of a bus than eat at this sh@thole again... You've been warned.\",\n",
       "  u'type': u'review',\n",
       "  u'useful': 0,\n",
       "  u'user_id': u'S6gAeiubzQ7FJOdMvipsog'},\n",
       " {u'business_id': u'2S1s1gKstsgRtUTVxKO79w',\n",
       "  u'cool': 0,\n",
       "  u'date': u'2014-08-31',\n",
       "  u'funny': 0,\n",
       "  u'review_id': u'gNevv1EYmQ7mJPlZYsE0Mg',\n",
       "  u'stars': 4,\n",
       "  u'state': u'OH',\n",
       "  u'text': u\"Found Luna's through Yelp and glad we did. Great service and quality food at low prices. The parking lot was full but we didn't have a long wait. Hubs ordered biscuits and gravy with eggs which he scarfed down. I had a denver omlette bagel sandwich which was delicious. So glad we stopped.\",\n",
       "  u'type': u'review',\n",
       "  u'useful': 0,\n",
       "  u'user_id': u'ofThxVRvUfIvzV1QfXDQgw'},\n",
       " {u'business_id': u'2S1s1gKstsgRtUTVxKO79w',\n",
       "  u'cool': 0,\n",
       "  u'date': u'2013-05-05',\n",
       "  u'funny': 0,\n",
       "  u'review_id': u'AKt3-PhndRMgk8n4eQC2rA',\n",
       "  u'stars': 5,\n",
       "  u'state': u'OH',\n",
       "  u'text': u\"Must have the Luna's Corned Beef sandwich.... Amazing.\",\n",
       "  u'type': u'review',\n",
       "  u'useful': 0,\n",
       "  u'user_id': u'qI0i9RUYujqGv3YSAs-ccA'},\n",
       " {u'business_id': u'2S1s1gKstsgRtUTVxKO79w',\n",
       "  u'cool': 0,\n",
       "  u'date': u'2013-10-27',\n",
       "  u'funny': 0,\n",
       "  u'review_id': u'I595qq2gjfFHIyk6lHp9ig',\n",
       "  u'stars': 1,\n",
       "  u'state': u'OH',\n",
       "  u'text': u\"Terrible customer service today! My husband and I came today for breakfast with our 4 kids. We're used to waiting for a table... We waited for 20min and then a local family who new one of the owners came in. 5 people in their party and they went out of their way to push tables together and say them before us. We left! In the past my husband and I have enjoyed the restaurant and always have the same waitress who is good to us. So sad that because of today I won't be back.\",\n",
       "  u'type': u'review',\n",
       "  u'useful': 0,\n",
       "  u'user_id': u'Sx6YtByoNJqfuM8XJqEyPQ'},\n",
       " {u'business_id': u'2S1s1gKstsgRtUTVxKO79w',\n",
       "  u'cool': 0,\n",
       "  u'date': u'2015-06-30',\n",
       "  u'funny': 0,\n",
       "  u'review_id': u'pbvL9ZAuB6-RhmrcXoCyRQ',\n",
       "  u'stars': 1,\n",
       "  u'state': u'OH',\n",
       "  u'text': u\"I had the chicken noodle soup which was the strangest tasting I've ever had. The fish fry was extremely greasy as well. The staff wasn't very friendly and as I was leaving I noticed that all of the bakery in the display case was purchased from WalMart..\",\n",
       "  u'type': u'review',\n",
       "  u'useful': 0,\n",
       "  u'user_id': u'Txb81X1E3uUL1u9ZhSEp-g'},\n",
       " {u'business_id': u'2S1s1gKstsgRtUTVxKO79w',\n",
       "  u'cool': 0,\n",
       "  u'date': u'2014-04-04',\n",
       "  u'funny': 0,\n",
       "  u'review_id': u'W4su1AfjH23TD68Le-y6Jg',\n",
       "  u'stars': 2,\n",
       "  u'state': u'OH',\n",
       "  u'text': u\"Glad we went back a second time -- for all the wrong reasons!  First visit, owner could not have been friendlier, server was attentive & friendly, my AYCE cod dinner came with delicious lentil soup & canned or frozen corn, french fries were good, wife's sandwich was decent if not memorable, kitchen did a good job in getting orders out, restrooms were clean, dining area was orderly.  But the second trip -- had the fried cod dinner again, and there was something N-O-T Q-U-I-T-E R-I-G-H-T about it, tartar sauce wasn't even fully mixed, in place of the corn I had mixed (ugh!) veggies, french fries almost soggy, rice pudding had a liberal dose of cinnamon but it was still thin and tasteless, owner too busy on a personal phone call to say hello.  The good news -- our server was excellent, the kitchen got orders out quickly again, the rest rooms still clean, the dining room still neat and orderly.  the lentil soup was still quite good.  Weren't there for breakfast, but their breakfast menu looks good, with eggs, omelettes, waffles, skillets, etc.   Go east or west on Route 82 for some better options.\",\n",
       "  u'type': u'review',\n",
       "  u'useful': 0,\n",
       "  u'user_id': u'IvYlKW4hfn7lQrV2ATcqmA'},\n",
       " {u'business_id': u'2S1s1gKstsgRtUTVxKO79w',\n",
       "  u'cool': 0,\n",
       "  u'date': u'2015-02-26',\n",
       "  u'funny': 0,\n",
       "  u'review_id': u'66aNhufsn2zGBi4c0e5vjQ',\n",
       "  u'stars': 2,\n",
       "  u'state': u'OH',\n",
       "  u'text': u'Someone recommended Luna\\'s and so earlier today I thought I would give it a try for dinner.  Well, not a good decision.\\n\\nAfter reviewing the menu I decided to try something \\'safe\\' so I ordered the meat loaf with mashed potatoes and gravy.  The meat loaf had very little seasoning, if any.  It had an odd taste.  It also appeared to be overcooked around the edges.  There was quite a \\'crust\\' on it.  Overall, not appetizing at all.  The \\'mashed\\' potatoes were quite lumpy.  I had to finish mashing them with the fork.  It appeared they had been mashed quickly, possibly just before they were served.  Again, lack of seasoning, particularly salt.  Not good at all.   I didn\\'t finish either item.\\n\\nAnd when I tried to pay my check, there was no one at the register.  I probably stood there about 3 minutes before another customer got in line behind me.  She finally summoned a waiter and asked if we could pay our bills.  The response was, \"I don\\'t know where she is.\"  He then disappeared for a moment and then returned and said \"She will be with you in a minute.\"   Not good customer service.\\n\\nThe whole meal was not very good.  While the price was reasonable, the food didn\\'t live up to the hype that I received.  I don\\'t think I would either recommend this place or go there again.  There are better places with food that is more appetizing.   A real disappointment for sure.',\n",
       "  u'type': u'review',\n",
       "  u'useful': 0,\n",
       "  u'user_id': u'YTkn5uzb_qWxgS3PmAAGeA'},\n",
       " {u'business_id': u'2S1s1gKstsgRtUTVxKO79w',\n",
       "  u'cool': 0,\n",
       "  u'date': u'2013-11-25',\n",
       "  u'funny': 0,\n",
       "  u'review_id': u'pupNBcy86NxSv2W7cntA-Q',\n",
       "  u'stars': 1,\n",
       "  u'state': u'OH',\n",
       "  u'text': u'will not go back.  went for breakfast & ordered waffles, they were horrible.  not sure how a restaurant could mess up waffles so badly, such a basic food to prepare.  not impressed at all, dont waste your time/money.',\n",
       "  u'type': u'review',\n",
       "  u'useful': 0,\n",
       "  u'user_id': u'XbCd366Bm_SWGhB8RsJouw'},\n",
       " {u'business_id': u'2S1s1gKstsgRtUTVxKO79w',\n",
       "  u'cool': 0,\n",
       "  u'date': u'2016-06-02',\n",
       "  u'funny': 0,\n",
       "  u'review_id': u'0XpAQM9mreLGg_7jbWPwFQ',\n",
       "  u'stars': 4,\n",
       "  u'state': u'OH',\n",
       "  u'text': u\"We love Luna's. We are there every Friday Morning. Breakfast is inexpensive for what you get.  It's the local breakfast place, not a chain with fancy meals and prices\",\n",
       "  u'type': u'review',\n",
       "  u'useful': 0,\n",
       "  u'user_id': u'fAnkHlKedFqau2NTj-KASA'},\n",
       " {u'business_id': u'2S1s1gKstsgRtUTVxKO79w',\n",
       "  u'cool': 0,\n",
       "  u'date': u'2014-07-12',\n",
       "  u'funny': 0,\n",
       "  u'review_id': u'Ws-4ormTU91ZL1g62y4SQQ',\n",
       "  u'stars': 1,\n",
       "  u'state': u'OH',\n",
       "  u'text': u\"Horrific food, horrific service. We had a frozen burger and a wilted salad of iceburg lettuce that was way over seasoned. The waitress brought the check before the food and didn't check on us again. Obviously prepared food with shortcuts. I am very disappointed.\",\n",
       "  u'type': u'review',\n",
       "  u'useful': 0,\n",
       "  u'user_id': u'ehaAhyaDSPrSwtsiQ6Kq7w'},\n",
       " {u'business_id': u'2S1s1gKstsgRtUTVxKO79w',\n",
       "  u'cool': 0,\n",
       "  u'date': u'2013-03-18',\n",
       "  u'funny': 0,\n",
       "  u'review_id': u'5-IZh0KF10GQiCTczXmM8Q',\n",
       "  u'stars': 2,\n",
       "  u'state': u'OH',\n",
       "  u'text': u\"I walked in and first of all it smelled like mold and i smelled the bathrooms from the front door. The wait was short, however, the server almost didn't notice that I was there. it seemed like there was no host to seat me. The server asked politely, if i would like a table or booth. I asked for a booth. I was seated and the server, asked, what can i get you to drink. I ordered my drink and the server left. As I am drinking my pop, the server finally brings me the menu and leaves again. As I am looking at the menu I noticed there were family members of the owner/manager (maybe), helping out in which I thought was cute? But kind of weird! I thought that it was sweet that a family business was helped by togetherness of family members. As I am waiting for the server to return  to take my order I noticed that some of the tables were dirty and the floor was sticky. It seemed  that the tables were not properly wiped off. The server finally came back to take my order, i ordered the corn beef and fries instead of cabbage  and a salad with oil and vinegar then hums as an appetizer. I sat and waited for my order for about 15-20 minutes. The owner/manager was walking around helping out his family members. That's a good owner/manager helping out. The server brought out the salad with the dressings. I notice that the dressing  bottle was very dirty, The rest of the food came out all at once instead of the appetizer first. The hummus did not taste like hummus. The hummus was very tasteless. The corn beef was bland and the carrots tasted like  they came from a can from the store. The fries tasted as if they were prefrozened  and prepared from a bag instead of fresh. After looking at the dessert i remember seeing the brand of cake sold at walmart... not fresh.\",\n",
       "  u'type': u'review',\n",
       "  u'useful': 0,\n",
       "  u'user_id': u'Qsw_wXoZJeVG6zDlMr37vw'},\n",
       " {u'business_id': u'2S1s1gKstsgRtUTVxKO79w',\n",
       "  u'cool': 0,\n",
       "  u'date': u'2013-01-19',\n",
       "  u'funny': 1,\n",
       "  u'review_id': u'sa3sR6Lck4UiGkHmwTat7Q',\n",
       "  u'stars': 1,\n",
       "  u'state': u'OH',\n",
       "  u'text': u\"For some reason, even though there were only a few tables with diners, our waitress seated us right by the kitchen. She kept coming over and rushing us to make a decision.  When I say rushing I mean like every minute or so.   Seriously. \\n\\nThe Chicken Noodle Soup looked like glorified boxed soup.  The salad had lettuce that was starting to rust.  Someone must really like onions because there were 7 large slices of red onion on it.  But, here is the best part was the dressing came in a squeeze package like the ones at fast food places.  The meatloaf was horrible but strangely the mashed potatoes were good.  The fried chicken was OK. They make it with honey so chicken is very sweet and not something I'd eat again.  The fries were typical frozen french fries but were OK.  \\n\\nIf the food wasn't disappointing enough, all of the servers had bad attitudes and it showed.  We could hear all the talk from the kitchen since we were so close.  It is obvious no one wants to be there.  They don't care about the quality of their food or service. Now we know why the parking lot was almost empty on a Friday night.  We will not be back for another try.   Someone should write to Robert Irvine.  Maybe him and Restaurant Impossible can help.  Or, maybe not.\",\n",
       "  u'type': u'review',\n",
       "  u'useful': 0,\n",
       "  u'user_id': u'CJc13OrAjrWiNdh4imYAWg'},\n",
       " {u'business_id': u'2S1s1gKstsgRtUTVxKO79w',\n",
       "  u'cool': 0,\n",
       "  u'date': u'2014-04-24',\n",
       "  u'funny': 0,\n",
       "  u'review_id': u'2I5NCB_g6CRwmpUmH3_SWg',\n",
       "  u'stars': 1,\n",
       "  u'state': u'OH',\n",
       "  u'text': u\"Inedible slop. If you've seen those kitchen rescue shows, then the worst of those is this place. Under cooked meat, powdered potatoes, gravy and veggies from a can. I didn't even get a doggie bag despite eating only two bites. I value my pups more than that. Avoid at all cost!\",\n",
       "  u'type': u'review',\n",
       "  u'useful': 0,\n",
       "  u'user_id': u'apu0rYSwSG0iAFlBNbN_bw'}]"
      ]
     },
     "execution_count": 21,
     "metadata": {},
     "output_type": "execute_result"
    }
   ],
   "source": [
    "reviews_dict['OH'][0:50]"
   ]
  },
  {
   "cell_type": "markdown",
   "metadata": {},
   "source": [
    "It's good practice to save whatever data you're using in a more permanent location if you plan on using it again. That way, we don't have to load up the EC2 server and wait for our local machines to run the above filtering process."
   ]
  },
  {
   "cell_type": "code",
   "execution_count": 44,
   "metadata": {
    "collapsed": false
   },
   "outputs": [],
   "source": [
    "with open('cleaned_reviews_states_2010.json', 'w+') as outfile:\n",
    "    json.dump(reviews_dict, outfile)"
   ]
  },
  {
   "cell_type": "markdown",
   "metadata": {},
   "source": [
    "__Congratulations!__ You just finished downloading and filtering data from MongoDB as hosted on an EC2 instance"
   ]
  }
 ],
 "metadata": {
  "anaconda-cloud": {},
  "kernelspec": {
   "display_name": "Python [default]",
   "language": "python",
   "name": "python2"
  },
  "language_info": {
   "codemirror_mode": {
    "name": "ipython",
    "version": 2
   },
   "file_extension": ".py",
   "mimetype": "text/x-python",
   "name": "python",
   "nbconvert_exporter": "python",
   "pygments_lexer": "ipython2",
   "version": "2.7.12"
  }
 },
 "nbformat": 4,
 "nbformat_minor": 1
}

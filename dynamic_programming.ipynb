{
 "cells": [
  {
   "cell_type": "markdown",
   "metadata": {},
   "source": [
    "I took this problem from hackerrank. You can try it out yourself __[here](https://www.hackerrank.com/challenges/coin-change)__. It's one of the canonical problems in dynamic programming and is commonly referred to as the coin change problem.\n",
    "\n",
    "The problem is as follows:\n",
    "\n",
    "You have a collection of coins, $C$, where each coin is of a different denomination. $C = [c_{1}, \\cdots, c_{m}]$ where $m = |C|$.\n",
    "\n",
    "You have an infinite quantity of each of these coins. You need to make change for some quantity $n$ with any combination and number of coins in $C$. The problem is to find **all** the ways you can make change for $n$.\n",
    "\n",
    "For example, let $C = [1, 2, 3]$ and $n = 4$. We have a total of 4 different ways we can make change. Specifically, we can make change in the following ways:\n",
    "\n",
    "* $(1, 1, 1, 1)$\n",
    "* $(2, 1, 1)$\n",
    "* $(2, 2)$\n",
    "* $(3, 1)$"
   ]
  },
  {
   "cell_type": "code",
   "execution_count": 1,
   "metadata": {
    "collapsed": true
   },
   "outputs": [],
   "source": [
    "c = [1, 2 ,3]\n",
    "n = 4"
   ]
  },
  {
   "cell_type": "markdown",
   "metadata": {},
   "source": [
    "In general, dynamic programming works by breaking up the overall problem into many smaller sub problems where we optimize each of the smaller sub problems so that we reach a optimal solution for the overall problem.\n",
    "\n",
    "Let's consider the degenerate cases for the coin problem. Fix C as in the example above,  When we need to make change for n = 0 (0 cents) we don't have any way to make change for this for any number of coins.\n",
    "\n",
    "0 cents: [0, 0 ,0]\n",
    "\n",
    "When we have 1 cent, we can make change 1 way with 1 cent, 0 ways with 2 cents and 0 ways with 3 cents. That is, if $C_{j} > n \\: \\forall \\: j \\in m$ then we have 0 ways of making change for n.\n",
    "\n",
    "1 cents: [1, 0, 0]\n",
    "\n",
    "When we have 2 cents, we can make change 1 way with 1 cent and 1 way with 2 cents. To modify our above rule, if $C_{j} = n \\: \\forall \\: j \\in m$ then we have 1 way of making change for n using $C_{j}$. \n",
    "\n",
    "2 cents: [1, 2, 0]\n",
    "\n",
    "Note the second element in the above list is a cumulative count of the number of ways we can make change. Let's call the list dp, then we have that dp[i] = dp[i-1] + # of ways to make change for n with $C_{i}$.\n",
    "\n",
    "When we have 3 cents, we can make change 1 way with 1 cent, 1 extra way with 2 cents (2,1), and 1 way with 3 cents. \n",
    "\n",
    "3 cents: [1, 2, 3]\n",
    "\n",
    "When we have 4 cents, we can make change 1 way with 1 cent, 2 ways with 2 cents and 1 way with 3 cents.\n",
    "\n",
    "4 cents: [1, 3, 4]"
   ]
  },
  {
   "cell_type": "code",
   "execution_count": 60,
   "metadata": {
    "collapsed": false
   },
   "outputs": [
    {
     "name": "stdout",
     "output_type": "stream",
     "text": [
      "2\n"
     ]
    }
   ],
   "source": [
    "coins = [1, 2]\n",
    "n, m = 3, len(coins)\n",
    "dp = [1]+[0]*n\n",
    "for i in range(m):\n",
    "    #Range returns a null list if coins[i] >= n + 1\n",
    "    #so if it's ever the case that the coin denomination is greater than \n",
    "    #what we need to make change for, we do not iterate on that item\n",
    "    for j in range(coins[i], n+1):\n",
    "        #We move back by coins[i] because that's how many ways we could have made change \n",
    "        #for the DIFFERENCE that the initial coin now adds.\n",
    "        dp[j]+=dp[j-coins[i]]\n",
    "print(dp[-1])"
   ]
  },
  {
   "cell_type": "markdown",
   "metadata": {},
   "source": [
    "[1, 0, 0, 0, 0]\n",
    "For each iteration of the inner loop, we start from having solved how many ways we can make change for n given the the previous denomination\n",
    "i = 0 (1 cent):\n",
    "    [1, 1 (start), 1,1, 1]\n",
    "There's 1 way to make change for 0 cents (initial condition assumption)\n",
    "i = 1 (2 cent):\n",
    "    [1, 1, 2, 2, 3]\n",
    "    [0 cents, 1 cents, 2 cents, 3 cents, 4 cents]\n",
    "for 3 cents we have (1,1,1) (2,1) (there were 2 ways to make 2 cents, so it must be that we have the initial way to make 4 cents plus the two other ways to make 2 cents for a 2 cent coin because 4-2 = 2. We skip back by coins[i]!"
   ]
  },
  {
   "cell_type": "code",
   "execution_count": 12,
   "metadata": {
    "collapsed": false
   },
   "outputs": [],
   "source": [
    "dp = [0] * len(c)\n",
    "count_dict = {}\n",
    "for j in range(1, n+1):\n",
    "    count_dict[j] = []\n",
    "    for i in range(0, len(c)):\n",
    "        if c[i] > j:\n",
    "            continue\n",
    "        else:\n",
    "            count_dict[j].append(i)"
   ]
  },
  {
   "cell_type": "code",
   "execution_count": 13,
   "metadata": {
    "collapsed": false
   },
   "outputs": [
    {
     "data": {
      "text/plain": [
       "{1: [1, 2, 3], 2: [1, 2, 3], 3: [1, 2, 3], 4: [1, 2, 3]}"
      ]
     },
     "execution_count": 13,
     "metadata": {},
     "output_type": "execute_result"
    }
   ],
   "source": [
    "count_dict"
   ]
  }
 ],
 "metadata": {
  "kernelspec": {
   "display_name": "Python [conda root]",
   "language": "python",
   "name": "conda-root-py"
  },
  "language_info": {
   "codemirror_mode": {
    "name": "ipython",
    "version": 2
   },
   "file_extension": ".py",
   "mimetype": "text/x-python",
   "name": "python",
   "nbconvert_exporter": "python",
   "pygments_lexer": "ipython2",
   "version": "2.7.12"
  }
 },
 "nbformat": 4,
 "nbformat_minor": 1
}

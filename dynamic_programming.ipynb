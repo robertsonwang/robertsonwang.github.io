{
 "cells": [
  {
   "cell_type": "markdown",
   "metadata": {},
   "source": [
    "### Coin Change\n",
    "\n",
    "I took this problem from hackerrank. You can try it out yourself __[here](https://www.hackerrank.com/challenges/coin-change)__. It's one of the canonical problems in dynamic programming and is commonly referred to as the coin change problem.\n",
    "\n",
    "The problem is as follows:\n",
    "\n",
    "You have a collection of coins, $C$, where each coin is of a different denomination. $C = [c_{1}, \\cdots, c_{m}]$ where $m = |C|$.\n",
    "\n",
    "You have an infinite quantity of each of these coins. You need to make change for some quantity $n$ with any combination and number of coins in $C$. The problem is to find **all** the ways you can make change for $n$.\n",
    "\n",
    "For example, let $C = [1, 2, 3]$ and $n = 4$. We have a total of 4 different ways we can make change. Specifically, we can make change in the following ways:\n",
    "\n",
    "* $(1, 1, 1, 1)$\n",
    "* $(2, 1, 1)$\n",
    "* $(2, 2)$\n",
    "* $(3, 1)$"
   ]
  },
  {
   "cell_type": "code",
   "execution_count": 70,
   "metadata": {
    "collapsed": false
   },
   "outputs": [],
   "source": [
    "c = [1, 2 ,3]\n",
    "n = 4"
   ]
  },
  {
   "cell_type": "markdown",
   "metadata": {},
   "source": [
    "In general, dynamic programming works by breaking up the overall problem into many smaller sub problems where we optimize each of the smaller sub problems so that we reach a optimal solution for the overall problem.\n",
    "\n",
    "Let's be specific. In the above problem we can generalize our problem into two cases:\n",
    "\n",
    "Let $i \\in$ range(0, len(c)). For a given i, we either have:\n",
    "\n",
    "1. c[i] $>$ $n$\n",
    "2. c[i] $\\leq$ $n$\n",
    "\n",
    "For the first case, we cannot possibly make change for $n$ using the coin denomination specified by c[i]. So we can move on. For example, if you have to give someone \\$5 you can't do it if you only have a \\$10 bill.\n",
    "\n",
    "For the second case, we know that we can make change for $n$ in **at least** as many ways as we could before the introduction of c[i]. Further, **with** the introduction of c[i] we can make change for $n$ using some combination of c[i] and the earlier denominations. Specifically, we need c[i] and $n$ - c[i] to make change for $n$. That is, we need to know how many ways we can make change for $n$ - c[i]. Here is the secret sauce! The essence of dynamic programming is breaking down the larger problem into a series of smaller problems. In this example, finding how many ways we can make change for $n$ - c[i] is the sub-problem.\n",
    "\n",
    "Note, when n = c[i] we have to figure out how many ways we can make change for 0 cents. This is where our initial condition assumption comes into play, if we assumed that there is NO way to make change for 0 cents then we would always be under counting by 1 because we can always make change for n with one unit of c[i]. We need to count the null set as a valid set.\n",
    "\n",
    "As you can see, the choice of initial condition is non-trivial and can lead to wrong results if we're not careful.\n",
    "\n",
    "Now, let's look at some code."
   ]
  },
  {
   "cell_type": "code",
   "execution_count": 71,
   "metadata": {
    "collapsed": false
   },
   "outputs": [
    {
     "name": "stdout",
     "output_type": "stream",
     "text": [
      "4\n"
     ]
    }
   ],
   "source": [
    "dp = [1]+[0]*n\n",
    "for i in range(len(c)):\n",
    "    for j in range(c[i], n+1):\n",
    "        dp[j]+=dp[j-c[i]]\n",
    "print(dp[-1])"
   ]
  },
  {
   "cell_type": "markdown",
   "metadata": {},
   "source": [
    "I'll break down the above code step by step:\n",
    "\n",
    "In the first line, we initialize a list that keeps track of the number of ways we can make change for each incremental amount from 1 to n. Here, we the the number of ways of making change for 0 cents as 1.\n",
    "\n",
    "In the second line, we loop over the elements in the list c, where c is the set of unique coin denominations.\n",
    "\n",
    "In the third line, we loop over the elements in the dp list starting from the denomination specified by c[i] and ending at the amount that we have to make change for. Note that range(k,l) returns None when k > l so that our first rule above (c[i] > $n$) is implicitly incorporated in the code.\n",
    "\n",
    "In the fourth line, we can see the logic in our second rule being implemented. dp[j] contains the number of ways to make change for j using the denominations **before** the introduction of c[i]. dp[j-c[i]] contains the number of ways to make change for j-c[i].\n",
    "\n",
    "Finally, in the last line we return the number of ways to make change for $n$. This is the last element of the list by construction (the way we constructed dp)."
   ]
  }
 ],
 "metadata": {
  "kernelspec": {
   "display_name": "Python [conda root]",
   "language": "python",
   "name": "conda-root-py"
  },
  "language_info": {
   "codemirror_mode": {
    "name": "ipython",
    "version": 2
   },
   "file_extension": ".py",
   "mimetype": "text/x-python",
   "name": "python",
   "nbconvert_exporter": "python",
   "pygments_lexer": "ipython2",
   "version": "2.7.12"
  }
 },
 "nbformat": 4,
 "nbformat_minor": 1
}
